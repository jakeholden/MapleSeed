{
 "cells": [
  {
   "cell_type": "code",
   "execution_count": 7,
   "metadata": {
    "ExecuteTime": {
     "end_time": "2016-11-12T15:56:42.430327",
     "start_time": "2016-11-12T15:56:42.384804"
    },
    "collapsed": true
   },
   "outputs": [],
   "source": [
    "import numpy as np\n",
    "import math\n",
    "#import pylab\n",
    "import matplotlib.pyplot as plt\n",
    "%matplotlib notebook\n",
    "#import os\n",
    "#import glob\n",
    "import sys\n",
    "import pandas as pd\n",
    "#from scipy.misc import imread, imsave\n",
    "#from read_data_pandas import *"
   ]
  },
  {
   "cell_type": "markdown",
   "metadata": {},
   "source": [
    "### Cp calculation method 1:"
   ]
  },
  {
   "cell_type": "markdown",
   "metadata": {},
   "source": [
    "cp = 2 tau omega /(rho V^3 A_swept)"
   ]
  },
  {
   "cell_type": "code",
   "execution_count": 8,
   "metadata": {
    "ExecuteTime": {
     "end_time": "2016-11-12T15:56:46.781261",
     "start_time": "2016-11-12T15:56:46.758672"
    },
    "code_folding": [],
    "collapsed": false
   },
   "outputs": [
    {
     "name": "stdout",
     "output_type": "stream",
     "text": [
      "tau =  2.1113932e-06\n",
      "omega = 86.2890782186\n",
      "Vx =  0.737616\n",
      "Cp = 0.244418008212\n",
      " RANS OD extend Cp =  0.276403461644\n"
     ]
    }
   ],
   "source": [
    "# Enter torque about x-axis in [N-m]\n",
    "tau = 0.0000021113932  # LES time hist\n",
    "tau2 = 2.387698e-06 # RANS OD extend (5k iterations)\n",
    "# tau = 2.342281e-06 # RANS 10k iterations\n",
    "# tau = 2.277e-06  # RANS \n",
    "omega = 824.0 #RPM\n",
    "omega = omega*(2*math.pi)/60 # rpm to rad/s\n",
    "Vx = .737616\n",
    "# r_tip = 0.0308 # [m] this is the seed trip radius that I have been using (seems like and undershoot)\n",
    "r_tip = 0.0316 # [m] this is the most accurate cone dy radius I can get\n",
    "a_swept = math.pi*r_tip**2. #[m^2]\n",
    "#omega = 86.18 # [rad/s]\n",
    "rho = 1.18415 # [kg/m^3]\n",
    "#Vx = .737616 # [m/s]\n",
    "print \"tau = \", tau\n",
    "print \"omega =\", omega\n",
    "print \"Vx = \", Vx\n",
    "\n",
    "Cp = (tau*omega)/(0.5 * rho * (Vx**3.) * (r_tip**2) * math.pi)\n",
    "Cp2 = 2.*(tau2*omega)/(rho*Vx**3.*a_swept)\n",
    "print \"Cp =\",Cp\n",
    "print ' RANS OD extend Cp = ', Cp2"
   ]
  },
  {
   "cell_type": "markdown",
   "metadata": {},
   "source": [
    "Read in Torque history from LES:"
   ]
  },
  {
   "cell_type": "code",
   "execution_count": 60,
   "metadata": {
    "ExecuteTime": {
     "end_time": "2016-10-17T04:42:06.506936",
     "start_time": "2016-10-17T04:42:06.461754"
    },
    "collapsed": false
   },
   "outputs": [
    {
     "data": {
      "text/plain": [
       "2.111393200721068e-06"
      ]
     },
     "execution_count": 60,
     "metadata": {},
     "output_type": "execute_result"
    }
   ],
   "source": [
    "torque_dir = '/Users/jakeholden/Dropbox/MapleSeed/Thesis/Scripts/Result_calculations/LES/output/'\n",
    "torque_file = 'Torque_wrt_x_via_moment_report_Monitor_Plot_seed_torquex_21561.csv'\n",
    "df_torque_hist = pd.DataFrame.from_csv(torque_dir+torque_file,index_col = False)\n",
    "df_torque_hist['Torque_wrt_x_via_moment_report Monitor: Torque_wrt_x_via_moment_report Monitor (N-m)'].mean()"
   ]
  },
  {
   "cell_type": "markdown",
   "metadata": {
    "ExecuteTime": {
     "end_time": "2016-10-17T04:37:37.732990",
     "start_time": "2016-10-17T04:37:37.728159"
    }
   },
   "source": [
    "### Cp calculation method 2:"
   ]
  },
  {
   "cell_type": "markdown",
   "metadata": {},
   "source": [
    "I expect this method would undershoot the Cp estimation because the conical plane where velcity is surface averaged is upstream of the rotor plane (so there is still some axial distance for flow to decelerate after the plane. Also, the surface is nominally smaller than the mapleseed tip radius, so a small region of velocity deifict may be exclude from this calculation.\n",
    "\n",
    "Cp = 4 a (1 - a)^2\n",
    "\n",
    "a = (U1 - U2)/U1"
   ]
  },
  {
   "cell_type": "code",
   "execution_count": 21,
   "metadata": {
    "ExecuteTime": {
     "end_time": "2016-11-12T18:23:14.639256",
     "start_time": "2016-11-12T18:23:14.597714"
    },
    "collapsed": false
   },
   "outputs": [
    {
     "name": "stdout",
     "output_type": "stream",
     "text": [
      "RANS Cp =  0.525883567689\n",
      "RANS 3k iterations Cp =  0.50540673601\n",
      "LES Cp =  0.524886902941\n",
      "Empirical Cp =  0.567506372\n",
      "RANS OD Cp =  0.522383729278\n",
      "RANS/LES Error =  -0.0018988180922\n",
      "a_rans_10k =  0.211411628815\n"
     ]
    }
   ],
   "source": [
    "U1 = .737616 # [m/s]\n",
    "U2_3k = 5.9381e-01 # RANS 3k iterations\n",
    "U2 = 5.816754e-01 # RANS 10k iterations\n",
    "# U2 = 5.98561e-01 # RANS 6415_RANS_v9.sim 2450 iterations\n",
    "# U2 = 5.447363e-01 # RANS 64415_RANS_refine.sim 1000 iterations NOT CONVERGED\n",
    "# U2 = 6.105853e-01 # RANS 121414_coning_angle_test2_revisited 2500 iterations\n",
    "# U2 = 5.940952e-01 # RANS ms_1_RANS_5dia_cone 3000 iterations\n",
    "# U2_les = 5.825101e-01 # LES Time Mean\n",
    "U2_les = 5.8231e-01 # LES Time Mean ts = 0.584 secs\n",
    "U2_od = 5.838816e-01 # RANS OD extended wall (5k iterations)\n",
    "\n",
    "a =(U1-U2)/U1\n",
    "a_emp = .257\n",
    "a_3k = (U1-U2_3k)/U1\n",
    "a_les =(U1-U2_les)/U1\n",
    "a_od = (U1-U2_od)/U1\n",
    "\n",
    "Cp2 = 4.0*a*(1.0-a)**2\n",
    "Cp2_3k = 4.0*a_3k*(1.0-a_3k)**2\n",
    "Cp2_les = 4.0*a_les*(1.0-a_les)**2\n",
    "Cp2_emp = 4.0*a_emp*(1.0-a_emp)**2\n",
    "Cp2_od = 4.0*a_od*(1.0-a_od)**2\n",
    "\n",
    "print \"RANS Cp = \", Cp2\n",
    "print \"RANS 3k iterations Cp = \", Cp2_3k\n",
    "print \"LES Cp = \", Cp2_les \n",
    "print \"Empirical Cp = \", Cp2_emp \n",
    "print \"RANS OD Cp = \", Cp2_od\n",
    "\n",
    "print \"RANS/LES Error = \", (Cp2_les - Cp2)/Cp2_les\n",
    "\n",
    "print \"a_rans_10k = \", a"
   ]
  },
  {
   "cell_type": "markdown",
   "metadata": {},
   "source": [
    "### CT calculation:\n",
    "\n",
    "CT = (2 Fx) / (rho V^2 pi r_tip^2)\n",
    "\n",
    "CT = 4a(1-a)"
   ]
  },
  {
   "cell_type": "code",
   "execution_count": 53,
   "metadata": {
    "ExecuteTime": {
     "end_time": "2016-10-17T04:32:08.005158",
     "start_time": "2016-10-17T04:32:07.979259"
    },
    "collapsed": false
   },
   "outputs": [
    {
     "name": "stdout",
     "output_type": "stream",
     "text": [
      "RANS CT =  0.666867008067\n",
      "LES CT =  0.66424931003\n",
      "Empirical CT =  0.763804\n",
      "RANS a =  0.211411628815\n",
      "LES a =  0.210280010195\n",
      "CT error =  0.252812924601\n"
     ]
    }
   ],
   "source": [
    "CT2 = 4.0*a*(1.0-a)\n",
    "CT2_les = 4.0*a_les*(1.0-a_les)\n",
    "CT2_emp = 4.0*a_emp*(1.0-a_emp)\n",
    "\n",
    "print \"RANS CT = \", CT2\n",
    "print \"LES CT = \", CT2_les\n",
    "print \"Empirical CT = \", CT2_emp\n",
    "\n",
    "print \"RANS a = \", a\n",
    "print 'LES a = ', a_les\n",
    "\n",
    "CT_betz = .889\n",
    "print \"CT error = \", (CT_betz - CT2_les)/CT_betz"
   ]
  },
  {
   "cell_type": "markdown",
   "metadata": {},
   "source": [
    "### TSR Calculation:"
   ]
  },
  {
   "cell_type": "code",
   "execution_count": 3,
   "metadata": {
    "ExecuteTime": {
     "end_time": "2016-10-12T17:58:02.674974",
     "start_time": "2016-10-12T17:58:02.668288"
    },
    "collapsed": false
   },
   "outputs": [
    {
     "name": "stdout",
     "output_type": "stream",
     "text": [
      "3.69668617778\n"
     ]
    }
   ],
   "source": [
    "lamda = (r_tip*omega)/Vx\n",
    "print lamda"
   ]
  },
  {
   "cell_type": "markdown",
   "metadata": {},
   "source": [
    "### Reynolds Number Calculation:"
   ]
  },
  {
   "cell_type": "code",
   "execution_count": 12,
   "metadata": {
    "ExecuteTime": {
     "end_time": "2016-11-12T15:58:05.397474",
     "start_time": "2016-11-12T15:58:05.389701"
    },
    "collapsed": false
   },
   "outputs": [
    {
     "name": "stdout",
     "output_type": "stream",
     "text": [
      "2412.55560248\n"
     ]
    }
   ],
   "source": [
    "rho = 1.225 # [kg/m^3]\n",
    "mu = 1.983e-5 # [Pa s]\n",
    "max_c = .0145 # [m]\n",
    "r_max_c = .95*r_tip\n",
    "v_res = (Vx**2+(omega*r_max_c)**2)**.5\n",
    "Re = (rho*v_res*max_c)/mu\n",
    "print Re"
   ]
  },
  {
   "cell_type": "markdown",
   "metadata": {},
   "source": [
    "### Betz-RANS differences in performance params (section 3.4.2):"
   ]
  },
  {
   "cell_type": "code",
   "execution_count": 31,
   "metadata": {
    "ExecuteTime": {
     "end_time": "2016-10-15T09:53:17.630382",
     "start_time": "2016-10-15T09:53:17.610532"
    },
    "collapsed": false
   },
   "outputs": [
    {
     "name": "stdout",
     "output_type": "stream",
     "text": [
      "Cp_m1_error =  0.0647991900101\n",
      "Cp_m2_error =  0.0850489368883\n",
      "Cp_m2_les_error =  0.114748565643\n",
      "CT_error =  0.0213723284589\n",
      "a_error =  0.0600600600601\n",
      "a_les_error =  0.368528497913\n"
     ]
    }
   ],
   "source": [
    "Cp_m1_rans = 55.42\n",
    "Cp_m1_betz = 59.26\n",
    "Cp_m1_error = (Cp_m1_betz - Cp_m1_rans)/Cp_m1_betz\n",
    "print \"Cp_m1_error = \", Cp_m1_error\n",
    "\n",
    "Cp_m2_rans = 54.22\n",
    "Cp_m2_les = 52.46\n",
    "Cp_m2_betz = 59.26\n",
    "Cp_m2_error = (Cp_m2_betz - Cp_m2_rans)/Cp_m2_betz\n",
    "Cp_m2_les_error = (Cp_m2_betz - Cp_m2_les)/Cp_m2_betz\n",
    "print \"Cp_m2_error = \", Cp_m2_error\n",
    "print \"Cp_m2_les_error = \", Cp_m2_les_error\n",
    "\n",
    "CT_rans = 87.0\n",
    "CT_betz = 88.9\n",
    "CT_error = (CT_betz - CT_rans)/CT_betz\n",
    "print \"CT_error = \", CT_error\n",
    "\n",
    "a_rans = 31.3\n",
    "a_betz = 33.3\n",
    "a_error = (a_betz - a_rans)/a_betz\n",
    "a_les_error = (a_betz - a_les*100.0)/a_betz\n",
    "print \"a_error = \", a_error\n",
    "print \"a_les_error = \", a_les_error"
   ]
  },
  {
   "cell_type": "code",
   "execution_count": 65,
   "metadata": {
    "ExecuteTime": {
     "end_time": "2016-10-23T07:05:10.933485",
     "start_time": "2016-10-23T07:05:10.924921"
    },
    "collapsed": false
   },
   "outputs": [
    {
     "data": {
      "text/plain": [
       "0.997826796597613"
      ]
     },
     "execution_count": 65,
     "metadata": {},
     "output_type": "execute_result"
    }
   ],
   "source": [
    "(.0442453+.03810329)/.08252794"
   ]
  },
  {
   "cell_type": "markdown",
   "metadata": {},
   "source": [
    "## Maple Seed Power Output Calculation:"
   ]
  },
  {
   "cell_type": "code",
   "execution_count": 4,
   "metadata": {
    "ExecuteTime": {
     "end_time": "2016-11-06T19:36:29.252826",
     "start_time": "2016-11-06T19:36:29.243340"
    },
    "collapsed": false
   },
   "outputs": [
    {
     "name": "stdout",
     "output_type": "stream",
     "text": [
      "Power output =  0.000202113268419 Watts\n"
     ]
    }
   ],
   "source": [
    "rho = 1.225 # [kg/m^3]\n",
    "U2 = 5.816754e-01 # RANS 10k iterations\n",
    "\n",
    "# Power_out = 0.5*rho*(U2**3)*a_swept\n",
    "\n",
    "tau = 2.342281e-06 # RANS 10k iterations\n",
    "Power_out = tau*omega\n",
    "\n",
    "print 'Power output = ', Power_out, 'Watts'"
   ]
  },
  {
   "cell_type": "markdown",
   "metadata": {
    "collapsed": true
   },
   "source": [
    "## Maximum Cp Calc with Wake Rotation"
   ]
  },
  {
   "cell_type": "code",
   "execution_count": 112,
   "metadata": {
    "ExecuteTime": {
     "end_time": "2016-10-26T11:12:36.476319",
     "start_time": "2016-10-26T11:12:36.459887"
    },
    "collapsed": false
   },
   "outputs": [
    {
     "name": "stdout",
     "output_type": "stream",
     "text": [
      "The solution is a2 = 0.331600\n",
      "at which the value of the expression is 0.000000\n"
     ]
    }
   ],
   "source": [
    "from scipy.optimize import fsolve\n",
    "\n",
    "# Define the expression whose roots we want to find\n",
    "L = 3.7\n",
    "\n",
    "func = lambda a2 : L**2 - ((1.0-a2)*(1.0-4.0*a2)**2)/(1.0-3.0*a2) \n",
    "\n",
    "# Plot it\n",
    "\n",
    "# a2 = np.linspace(0, 0.333, 100)\n",
    "\n",
    "# plt.figure()\n",
    "# plt.plot(func(a2), a2)\n",
    "# plt.xlabel(\"TSR\")\n",
    "# plt.ylabel(\"a2\")\n",
    "# plt.grid()\n",
    "# plt.show()\n",
    "\n",
    "# Use the numerical solver to find the roots\n",
    "\n",
    "a2_initial_guess = .32\n",
    "a2_solution = fsolve(func, a2_initial_guess)\n",
    "\n",
    "print \"The solution is a2 = %f\" % a2_solution\n",
    "print \"at which the value of the expression is %f\" % func(a2_solution)"
   ]
  },
  {
   "cell_type": "code",
   "execution_count": 113,
   "metadata": {
    "ExecuteTime": {
     "end_time": "2016-10-26T11:12:38.751689",
     "start_time": "2016-10-26T11:12:38.739616"
    },
    "collapsed": false
   },
   "outputs": [
    {
     "name": "stdout",
     "output_type": "stream",
     "text": [
      "Cp_max with wake rotation for TSR = 3.7 is Cp = 0.5577 \n"
     ]
    }
   ],
   "source": [
    "x1 = 0.25\n",
    "x2 = (1.0 - 3.0*a2_solution)\n",
    "\n",
    "Cp_max_1 = (8.0/(729.0*L**2))*((64.0/5.0)*x1**5 + 72.0*x1**4 + 124.0*x1**3 + 38.0*x1**2 - 63.0*x1 - 12.0*np.log(x1) - 4.0*x1**-1.0)\n",
    "\n",
    "Cp_max_2 = (8.0/(729.0*L**2))*((64.0/5.0)*x2**5 + 72.0*x2**4 + 124.0*x2**3 + 38.0*x2**2 - 63.0*x2 - 12.0*np.log(x2) - 4.0*x2**-1.0)\n",
    "\n",
    "Cp_max = Cp_max_1 - Cp_max_2\n",
    "\n",
    "print \"Cp_max with wake rotation for TSR = %0.1f is Cp = %0.4f \" % (L, Cp_max)"
   ]
  },
  {
   "cell_type": "markdown",
   "metadata": {},
   "source": [
    "## $C_T$ Calc from Pressure and Shear forces:"
   ]
  },
  {
   "cell_type": "markdown",
   "metadata": {
    "collapsed": true
   },
   "source": [
    "${C_T} = \\frac{2 F_x}{\\rho V_{ax}^2 A_{ax,swept}}$ \n",
    "\n",
    "${F_x}$ = Sum of forces on the blade"
   ]
  },
  {
   "cell_type": "code",
   "execution_count": 20,
   "metadata": {
    "ExecuteTime": {
     "end_time": "2016-11-12T16:37:56.766632",
     "start_time": "2016-11-12T16:37:56.754592"
    },
    "collapsed": false
   },
   "outputs": [
    {
     "name": "stdout",
     "output_type": "stream",
     "text": [
      "Ct =  0.846721923059\n",
      "Fx =  0.00088518\n",
      "B-R/B for CT RANS 10k  0.0475568919476\n"
     ]
    }
   ],
   "source": [
    "# Values from RANS (10k iteration) solution:\n",
    "rho = 1.225 # [kg/m^3]\n",
    "Axial_force = 8.8518E-4   # [N] Force report\n",
    "# Axial_force2 = 8.8524E-4  # OD extended RANS solution\n",
    "Thrust_coef = (2.*Axial_force)/(rho* U1**2 * r_tip**2 * math.pi) # N\n",
    "Thrust_coef2 = (2.*Axial_force2)/(rho* U1**2 * r_tip**2 * math.pi) # N\n",
    "\n",
    "print 'Ct = ', Thrust_coef#*math.cos(math.radians(16))\n",
    "print 'Fx = ', Axial_force\n",
    "print 'B-R/B for CT RANS 10k ', (.889-Thrust_coef)/.889"
   ]
  },
  {
   "cell_type": "code",
   "execution_count": 14,
   "metadata": {
    "ExecuteTime": {
     "end_time": "2016-11-12T15:58:12.298824",
     "start_time": "2016-11-12T15:58:12.292230"
    },
    "collapsed": false
   },
   "outputs": [
    {
     "name": "stdout",
     "output_type": "stream",
     "text": [
      "Seed mass =  0.0903244897959  grams\n"
     ]
    }
   ],
   "source": [
    "# Seed mass per this axial force:\n",
    "m_seed = Axial_force/9.8\n",
    "print 'Seed mass = ', m_seed*1000, ' grams'"
   ]
  },
  {
   "cell_type": "markdown",
   "metadata": {},
   "source": [
    "## Basin Efficiency:\n",
    "\n",
    "$\\eta_{basin} = \\frac{Power}{Thrust \\cdot V}$"
   ]
  },
  {
   "cell_type": "code",
   "execution_count": 20,
   "metadata": {
    "ExecuteTime": {
     "end_time": "2016-11-06T19:58:07.834673",
     "start_time": "2016-11-06T19:58:07.828430"
    },
    "collapsed": false
   },
   "outputs": [
    {
     "name": "stdout",
     "output_type": "stream",
     "text": [
      "Basin Efficiency =  0.309378014535\n"
     ]
    }
   ],
   "source": [
    "eta_b = (202E-6)/(Axial_force*U1)  # 202 micro watts is P_out for maple seed\n",
    "print 'Basin Efficiency = ', eta_b"
   ]
  },
  {
   "cell_type": "code",
   "execution_count": null,
   "metadata": {
    "collapsed": true
   },
   "outputs": [],
   "source": []
  }
 ],
 "metadata": {
  "anaconda-cloud": {},
  "kernelspec": {
   "display_name": "Python [Root]",
   "language": "python",
   "name": "Python [Root]"
  },
  "language_info": {
   "codemirror_mode": {
    "name": "ipython",
    "version": 2
   },
   "file_extension": ".py",
   "mimetype": "text/x-python",
   "name": "python",
   "nbconvert_exporter": "python",
   "pygments_lexer": "ipython2",
   "version": "2.7.12"
  }
 },
 "nbformat": 4,
 "nbformat_minor": 0
}
